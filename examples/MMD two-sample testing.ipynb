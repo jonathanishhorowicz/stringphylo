{
 "cells": [
  {
   "cell_type": "code",
   "execution_count": 1,
   "metadata": {},
   "outputs": [],
   "source": [
    "import stringphylo\n",
    "from stringphylo.mmd import string_kernel_fn_factory, make_rbf_kernel_fn, perm_mmd_test\n",
    "\n",
    "import numpy as np\n",
    "import pandas as pd\n",
    "import os\n",
    "\n",
    "from skbio.stats.composition import clr, closure, multiplicative_replacement\n",
    "\n",
    "from gpflow.kernels import Linear\n",
    "\n",
    "import logging\n",
    "logging.basicConfig(\n",
    "    format='%(asctime)s %(levelname)-8s %(message)s',\n",
    "    level=logging.INFO,\n",
    "    datefmt='%Y-%m-%d %H:%M:%S')\n",
    "logger = logging.getLogger(__name__)\n",
    "logger.setLevel('DEBUG')\n",
    "logging.getLogger(\"utils\").setLevel('INFO')"
   ]
  },
  {
   "cell_type": "markdown",
   "metadata": {},
   "source": [
    "# Data preparation\n",
    "\n",
    "For the MMD calculation we will only use the ASV tables."
   ]
  },
  {
   "cell_type": "code",
   "execution_count": 47,
   "metadata": {},
   "outputs": [
    {
     "name": "stderr",
     "output_type": "stream",
     "text": [
      "2022-12-06 15:54:16 INFO     ASV table shape: (394, 525)\n"
     ]
    }
   ],
   "source": [
    "# load ASV table and phenotypes\n",
    "asv_table = pd.read_csv(\"../data/asv_table.csv\").set_index(\"sample_id\")\n",
    "logger.info(f\"ASV table shape: {asv_table.shape}\")\n",
    "assert np.all(np.isnan(asv_table).sum()==0)"
   ]
  },
  {
   "cell_type": "markdown",
   "metadata": {},
   "source": [
    "# Formatting string kernels\n",
    "\n",
    "Requires loading the $Q$ matrix for each value of the string kernel hyperparamters. Here we only consider the spectrum kernel with $k$-mer length of 9."
   ]
  },
  {
   "cell_type": "code",
   "execution_count": 48,
   "metadata": {
    "scrolled": true
   },
   "outputs": [
    {
     "name": "stderr",
     "output_type": "stream",
     "text": [
      "2022-12-06 15:54:19 INFO     Found 29 string kernel files\n",
      "2022-12-06 15:54:19 DEBUG    Loading kernel 0 of 29\n",
      "2022-12-06 15:54:19 DEBUG    Loading kernel 1 of 29\n",
      "2022-12-06 15:54:19 DEBUG    Loading kernel 2 of 29\n",
      "2022-12-06 15:54:19 DEBUG    Loading kernel 3 of 29\n",
      "2022-12-06 15:54:19 DEBUG    Loading kernel 4 of 29\n",
      "2022-12-06 15:54:19 DEBUG    Loading kernel 5 of 29\n",
      "2022-12-06 15:54:19 DEBUG    Loading kernel 6 of 29\n",
      "2022-12-06 15:54:19 DEBUG    Loading kernel 7 of 29\n",
      "2022-12-06 15:54:19 DEBUG    Loading kernel 8 of 29\n",
      "2022-12-06 15:54:19 DEBUG    Loading kernel 9 of 29\n",
      "2022-12-06 15:54:19 DEBUG    Loading kernel 10 of 29\n",
      "2022-12-06 15:54:19 DEBUG    Loading kernel 11 of 29\n",
      "2022-12-06 15:54:19 DEBUG    Loading kernel 12 of 29\n",
      "2022-12-06 15:54:19 DEBUG    Loading kernel 13 of 29\n",
      "2022-12-06 15:54:19 DEBUG    Loading kernel 14 of 29\n",
      "2022-12-06 15:54:19 DEBUG    Loading kernel 15 of 29\n",
      "2022-12-06 15:54:20 DEBUG    Loading kernel 16 of 29\n",
      "2022-12-06 15:54:20 DEBUG    Loading kernel 17 of 29\n",
      "2022-12-06 15:54:20 DEBUG    Loading kernel 18 of 29\n",
      "2022-12-06 15:54:20 DEBUG    Loading kernel 19 of 29\n",
      "2022-12-06 15:54:20 DEBUG    Loading kernel 20 of 29\n",
      "2022-12-06 15:54:20 DEBUG    Loading kernel 21 of 29\n",
      "2022-12-06 15:54:20 DEBUG    Loading kernel 22 of 29\n",
      "2022-12-06 15:54:20 DEBUG    Loading kernel 23 of 29\n",
      "2022-12-06 15:54:20 DEBUG    Loading kernel 24 of 29\n",
      "2022-12-06 15:54:20 DEBUG    Loading kernel 25 of 29\n",
      "2022-12-06 15:54:20 DEBUG    Loading kernel 26 of 29\n",
      "2022-12-06 15:54:20 DEBUG    Loading kernel 27 of 29\n",
      "2022-12-06 15:54:20 DEBUG    Loading kernel 28 of 29\n",
      "2022-12-06 15:54:20 INFO     Loaded 29 spectrum kernels\n"
     ]
    }
   ],
   "source": [
    "kernel_load_path = \"../data/ravel_stringkernels\"\n",
    "asv_names = asv_table.columns\n",
    "\n",
    "def read_feather(filepath):\n",
    "    out = pd.read_feather(filepath)\n",
    "    if \"rownames\" in out:\n",
    "        return out.set_index(\"rownames\")\n",
    "    else:\n",
    "        logger.warning(\"'rownames' not available for use as index\")\n",
    "        return out.set_index(\"C0\")\n",
    "    \n",
    "def parse_stringkernel_name(x):\n",
    "    return dict([xx.split(\"__\", 1) for xx in x.replace(\".feather\", \"\").split(\"____\")]) \n",
    "\n",
    "# load the string kernel Q matrices\n",
    "kernel_files = [\n",
    "    f for f in os.listdir(kernel_load_path)\n",
    "    if os.path.isfile(os.path.join(kernel_load_path, f))\n",
    "]\n",
    "logger.info(f\"Found {len(kernel_files)} string kernel files\")\n",
    "\n",
    "loaded_kernels = []\n",
    "for i, f in enumerate(kernel_files):\n",
    "    logger.debug(f\"Loading kernel {i} of {len(kernel_files)}\")\n",
    "    Q = read_feather(os.path.join(kernel_load_path, f))\n",
    "    if not Q.columns.equals(Q.index):\n",
    "        logger.warning(f\"Columns and index don't match for {kernel_files[k]}\")\n",
    "        continue\n",
    "    \n",
    "    # reorder columns of Q to match the ASV table\n",
    "    loaded_kernels.append(\n",
    "        dict({'Q' : Q.loc[asv_names,asv_names].astype(float)}, **parse_stringkernel_name(f))\n",
    "    )\n",
    "logger.info(f\"Loaded {len(loaded_kernels)} spectrum kernels\")"
   ]
  },
  {
   "cell_type": "markdown",
   "metadata": {},
   "source": [
    "# Setting up the MMD calculation\n",
    "\n",
    "We split the samples randomly into two groups and apply the CLR transform."
   ]
  },
  {
   "cell_type": "code",
   "execution_count": 55,
   "metadata": {},
   "outputs": [],
   "source": [
    "# use k=9\n",
    "Q = loaded_kernels[20]['Q']\n",
    "k = loaded_kernels[20]['k']\n",
    "\n",
    "# split into two groups\n",
    "rng = np.random.default_rng(1234)\n",
    "\n",
    "# random group membersip for samples\n",
    "n = asv_table.shape[0]\n",
    "group_idxs = np.array_split(\n",
    "    rng.permutation(n),\n",
    "    2\n",
    ")\n",
    "\n",
    "# ASV counts for each group\n",
    "X0 = asv_table.iloc[group_idxs[0],:].to_numpy().astype(float)\n",
    "X1 = asv_table.iloc[group_idxs[1],:].to_numpy().astype(float)\n",
    "\n",
    "# apply the CLR transform before computing the kernels\n",
    "def clr_transform(x):\n",
    "    return clr(closure(multiplicative_replacement(x)))\n",
    "\n",
    "X0_clr = clr_transform(X0)\n",
    "X1_clr = clr_transform(X1)"
   ]
  },
  {
   "cell_type": "markdown",
   "metadata": {},
   "source": [
    "## Kernel two-sample test using spectrum and RBF kernels"
   ]
  },
  {
   "cell_type": "code",
   "execution_count": 56,
   "metadata": {},
   "outputs": [],
   "source": [
    "# MMD two-sample test with spectrum kernel\n",
    "n_perms = 100\n",
    "\n",
    "mmd_perm_vals_string, mmd_obs_string, p_value_string = perm_mmd_test(\n",
    "    X0_clr,\n",
    "    X1_clr,\n",
    "    kernel_maker=string_kernel_fn_factory(Q, 1.0, False),\n",
    "    n_perms=n_perms,\n",
    "    rng=rng\n",
    ")\n",
    "\n",
    "# MMD two-sample test with RBF kernel\n",
    "mmd_perm_vals_rbf, mmd_obs_rbf, p_value_rbf = perm_mmd_test(\n",
    "    X0_clr,\n",
    "    X1_clr,\n",
    "    kernel_maker=lambda x0, x1: make_rbf_kernel_fn(x0, x1, rescale=True),\n",
    "    n_perms=n_perms,\n",
    "    rng=rng\n",
    ")"
   ]
  },
  {
   "cell_type": "markdown",
   "metadata": {},
   "source": [
    "Neither kernel rejects the null hypothesis (that the two groups from the same population). We expect this as we have split the samples at random."
   ]
  },
  {
   "cell_type": "code",
   "execution_count": 57,
   "metadata": {},
   "outputs": [
    {
     "data": {
      "image/png": "[encoded data removed]",
      "text/plain": [
       "<Figure size 1008x432 with 2 Axes>"
      ]
     },
     "metadata": {
      "needs_background": "light"
     },
     "output_type": "display_data"
    }
   ],
   "source": [
    "import matplotlib.pyplot as plt\n",
    "\n",
    "fig, axes = plt.subplots(1, 2, figsize=(14, 6))\n",
    "\n",
    "axes[0].hist(mmd_perm_vals_string)\n",
    "axes[0].axvline(mmd_obs_string, c=\"red\")\n",
    "axes[0].set_title(f\"String kernel: p-value={p_value_string:.2f}\")\n",
    "\n",
    "axes[1].hist(mmd_perm_vals_rbf)\n",
    "axes[1].axvline(mmd_obs_rbf, c=\"red\")\n",
    "axes[1].set_title(f\"RBF kernel: p-value={p_value_rbf:.2f}\")\n",
    "\n",
    "for ax in axes:\n",
    "    ax.set_xlabel(\"MMD\")\n",
    "    ax.set_ylabel(\"Number of permuted datasets\")"
   ]
  }
 ],
 "metadata": {
  "kernelspec": {
   "display_name": "tf2-gpu",
   "language": "python",
   "name": "tf2-gpu"
  },
  "language_info": {
   "codemirror_mode": {
    "name": "ipython",
    "version": 3
   },
   "file_extension": ".py",
   "mimetype": "text/x-python",
   "name": "python",
   "nbconvert_exporter": "python",
   "pygments_lexer": "ipython3",
   "version": "3.7.10"
  }
 },
 "nbformat": 4,
 "nbformat_minor": 2
}
